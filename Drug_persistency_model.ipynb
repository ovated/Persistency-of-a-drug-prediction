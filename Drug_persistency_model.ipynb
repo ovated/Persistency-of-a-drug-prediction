{
 "cells": [
  {
   "cell_type": "markdown",
   "metadata": {},
   "source": [
    "# Persistency of Drug Prediction"
   ]
  },
  {
   "cell_type": "markdown",
   "metadata": {},
   "source": [
    "Classification model to predict the persistency of drug as per the physician prescription"
   ]
  },
  {
   "cell_type": "code",
   "execution_count": 1,
   "metadata": {},
   "outputs": [],
   "source": [
    "# The relevant libraries\n",
    "\n",
    "import warnings\n",
    "warnings.simplefilter(action='ignore', category=FutureWarning)\n",
    "\n",
    "import pandas as pd\n",
    "import numpy as np\n",
    "# import plotly.express as px\n",
    "import matplotlib.pyplot as plt\n",
    "%matplotlib inline\n",
    "# import statsmodels.api as sm\n",
    "import seaborn as sns\n",
    "sns.set()"
   ]
  },
  {
   "cell_type": "code",
   "execution_count": 2,
   "metadata": {},
   "outputs": [],
   "source": [
    "# Convert the xlsx file to csv\n",
    "\n",
    "# Read and store content of the excel file \n",
    "read_file = pd.read_excel (\"Healthcare_dataset.xlsx\", 'Dataset')\n",
    "  \n",
    "# Write the dataframe object into csv file\n",
    "read_file.to_csv (\"Healthcare_dataset.csv\", \n",
    "                  index = None,\n",
    "                  header=True)"
   ]
  },
  {
   "cell_type": "code",
   "execution_count": 3,
   "metadata": {},
   "outputs": [
    {
     "data": {
      "text/html": [
       "<div>\n",
       "<style scoped>\n",
       "    .dataframe tbody tr th:only-of-type {\n",
       "        vertical-align: middle;\n",
       "    }\n",
       "\n",
       "    .dataframe tbody tr th {\n",
       "        vertical-align: top;\n",
       "    }\n",
       "\n",
       "    .dataframe thead th {\n",
       "        text-align: right;\n",
       "    }\n",
       "</style>\n",
       "<table border=\"1\" class=\"dataframe\">\n",
       "  <thead>\n",
       "    <tr style=\"text-align: right;\">\n",
       "      <th></th>\n",
       "      <th>Persistency_Flag</th>\n",
       "      <th>Gender</th>\n",
       "      <th>Race</th>\n",
       "      <th>Ethnicity</th>\n",
       "      <th>Region</th>\n",
       "      <th>Age_Bucket</th>\n",
       "      <th>Ntm_Speciality</th>\n",
       "      <th>Ntm_Specialist_Flag</th>\n",
       "      <th>Ntm_Speciality_Bucket</th>\n",
       "      <th>Gluco_Record_Prior_Ntm</th>\n",
       "      <th>...</th>\n",
       "      <th>Risk_Family_History_Of_Osteoporosis</th>\n",
       "      <th>Risk_Low_Calcium_Intake</th>\n",
       "      <th>Risk_Vitamin_D_Insufficiency</th>\n",
       "      <th>Risk_Poor_Health_Frailty</th>\n",
       "      <th>Risk_Excessive_Thinness</th>\n",
       "      <th>Risk_Hysterectomy_Oophorectomy</th>\n",
       "      <th>Risk_Estrogen_Deficiency</th>\n",
       "      <th>Risk_Immobilization</th>\n",
       "      <th>Risk_Recurring_Falls</th>\n",
       "      <th>Count_Of_Risks</th>\n",
       "    </tr>\n",
       "  </thead>\n",
       "  <tbody>\n",
       "    <tr>\n",
       "      <th>0</th>\n",
       "      <td>Persistent</td>\n",
       "      <td>Male</td>\n",
       "      <td>Caucasian</td>\n",
       "      <td>Not Hispanic</td>\n",
       "      <td>West</td>\n",
       "      <td>&gt;75</td>\n",
       "      <td>GENERAL PRACTITIONER</td>\n",
       "      <td>Others</td>\n",
       "      <td>OB/GYN/Others/PCP/Unknown</td>\n",
       "      <td>N</td>\n",
       "      <td>...</td>\n",
       "      <td>N</td>\n",
       "      <td>N</td>\n",
       "      <td>N</td>\n",
       "      <td>N</td>\n",
       "      <td>N</td>\n",
       "      <td>N</td>\n",
       "      <td>N</td>\n",
       "      <td>N</td>\n",
       "      <td>N</td>\n",
       "      <td>0</td>\n",
       "    </tr>\n",
       "    <tr>\n",
       "      <th>1</th>\n",
       "      <td>Non-Persistent</td>\n",
       "      <td>Male</td>\n",
       "      <td>Asian</td>\n",
       "      <td>Not Hispanic</td>\n",
       "      <td>West</td>\n",
       "      <td>55-65</td>\n",
       "      <td>GENERAL PRACTITIONER</td>\n",
       "      <td>Others</td>\n",
       "      <td>OB/GYN/Others/PCP/Unknown</td>\n",
       "      <td>N</td>\n",
       "      <td>...</td>\n",
       "      <td>N</td>\n",
       "      <td>N</td>\n",
       "      <td>N</td>\n",
       "      <td>N</td>\n",
       "      <td>N</td>\n",
       "      <td>N</td>\n",
       "      <td>N</td>\n",
       "      <td>N</td>\n",
       "      <td>N</td>\n",
       "      <td>0</td>\n",
       "    </tr>\n",
       "    <tr>\n",
       "      <th>2</th>\n",
       "      <td>Non-Persistent</td>\n",
       "      <td>Female</td>\n",
       "      <td>Other/Unknown</td>\n",
       "      <td>Hispanic</td>\n",
       "      <td>Midwest</td>\n",
       "      <td>65-75</td>\n",
       "      <td>GENERAL PRACTITIONER</td>\n",
       "      <td>Others</td>\n",
       "      <td>OB/GYN/Others/PCP/Unknown</td>\n",
       "      <td>N</td>\n",
       "      <td>...</td>\n",
       "      <td>N</td>\n",
       "      <td>Y</td>\n",
       "      <td>N</td>\n",
       "      <td>N</td>\n",
       "      <td>N</td>\n",
       "      <td>N</td>\n",
       "      <td>N</td>\n",
       "      <td>N</td>\n",
       "      <td>N</td>\n",
       "      <td>2</td>\n",
       "    </tr>\n",
       "    <tr>\n",
       "      <th>3</th>\n",
       "      <td>Non-Persistent</td>\n",
       "      <td>Female</td>\n",
       "      <td>Caucasian</td>\n",
       "      <td>Not Hispanic</td>\n",
       "      <td>Midwest</td>\n",
       "      <td>&gt;75</td>\n",
       "      <td>GENERAL PRACTITIONER</td>\n",
       "      <td>Others</td>\n",
       "      <td>OB/GYN/Others/PCP/Unknown</td>\n",
       "      <td>N</td>\n",
       "      <td>...</td>\n",
       "      <td>N</td>\n",
       "      <td>N</td>\n",
       "      <td>N</td>\n",
       "      <td>N</td>\n",
       "      <td>N</td>\n",
       "      <td>N</td>\n",
       "      <td>N</td>\n",
       "      <td>N</td>\n",
       "      <td>N</td>\n",
       "      <td>1</td>\n",
       "    </tr>\n",
       "    <tr>\n",
       "      <th>4</th>\n",
       "      <td>Non-Persistent</td>\n",
       "      <td>Female</td>\n",
       "      <td>Caucasian</td>\n",
       "      <td>Not Hispanic</td>\n",
       "      <td>Midwest</td>\n",
       "      <td>&gt;75</td>\n",
       "      <td>GENERAL PRACTITIONER</td>\n",
       "      <td>Others</td>\n",
       "      <td>OB/GYN/Others/PCP/Unknown</td>\n",
       "      <td>Y</td>\n",
       "      <td>...</td>\n",
       "      <td>N</td>\n",
       "      <td>N</td>\n",
       "      <td>N</td>\n",
       "      <td>N</td>\n",
       "      <td>N</td>\n",
       "      <td>N</td>\n",
       "      <td>N</td>\n",
       "      <td>N</td>\n",
       "      <td>N</td>\n",
       "      <td>1</td>\n",
       "    </tr>\n",
       "  </tbody>\n",
       "</table>\n",
       "<p>5 rows × 68 columns</p>\n",
       "</div>"
      ],
      "text/plain": [
       "  Persistency_Flag  Gender           Race     Ethnicity   Region Age_Bucket  \\\n",
       "0       Persistent    Male      Caucasian  Not Hispanic     West        >75   \n",
       "1   Non-Persistent    Male          Asian  Not Hispanic     West      55-65   \n",
       "2   Non-Persistent  Female  Other/Unknown      Hispanic  Midwest      65-75   \n",
       "3   Non-Persistent  Female      Caucasian  Not Hispanic  Midwest        >75   \n",
       "4   Non-Persistent  Female      Caucasian  Not Hispanic  Midwest        >75   \n",
       "\n",
       "         Ntm_Speciality Ntm_Specialist_Flag      Ntm_Speciality_Bucket  \\\n",
       "0  GENERAL PRACTITIONER              Others  OB/GYN/Others/PCP/Unknown   \n",
       "1  GENERAL PRACTITIONER              Others  OB/GYN/Others/PCP/Unknown   \n",
       "2  GENERAL PRACTITIONER              Others  OB/GYN/Others/PCP/Unknown   \n",
       "3  GENERAL PRACTITIONER              Others  OB/GYN/Others/PCP/Unknown   \n",
       "4  GENERAL PRACTITIONER              Others  OB/GYN/Others/PCP/Unknown   \n",
       "\n",
       "  Gluco_Record_Prior_Ntm  ... Risk_Family_History_Of_Osteoporosis  \\\n",
       "0                      N  ...                                   N   \n",
       "1                      N  ...                                   N   \n",
       "2                      N  ...                                   N   \n",
       "3                      N  ...                                   N   \n",
       "4                      Y  ...                                   N   \n",
       "\n",
       "   Risk_Low_Calcium_Intake Risk_Vitamin_D_Insufficiency  \\\n",
       "0                        N                            N   \n",
       "1                        N                            N   \n",
       "2                        Y                            N   \n",
       "3                        N                            N   \n",
       "4                        N                            N   \n",
       "\n",
       "  Risk_Poor_Health_Frailty Risk_Excessive_Thinness  \\\n",
       "0                        N                       N   \n",
       "1                        N                       N   \n",
       "2                        N                       N   \n",
       "3                        N                       N   \n",
       "4                        N                       N   \n",
       "\n",
       "  Risk_Hysterectomy_Oophorectomy Risk_Estrogen_Deficiency Risk_Immobilization  \\\n",
       "0                              N                        N                   N   \n",
       "1                              N                        N                   N   \n",
       "2                              N                        N                   N   \n",
       "3                              N                        N                   N   \n",
       "4                              N                        N                   N   \n",
       "\n",
       "  Risk_Recurring_Falls Count_Of_Risks  \n",
       "0                    N              0  \n",
       "1                    N              0  \n",
       "2                    N              2  \n",
       "3                    N              1  \n",
       "4                    N              1  \n",
       "\n",
       "[5 rows x 68 columns]"
      ]
     },
     "execution_count": 3,
     "metadata": {},
     "output_type": "execute_result"
    }
   ],
   "source": [
    "# Read the csv dataset\n",
    "data = pd.read_csv('Healthcare_dataset.csv')\n",
    "\n",
    "# Drop the ID variable\n",
    "data = data.drop([\"Ptid\"], axis=1)\n",
    "\n",
    "data.head()"
   ]
  },
  {
   "cell_type": "markdown",
   "metadata": {},
   "source": [
    "# Data Cleaning"
   ]
  },
  {
   "cell_type": "code",
   "execution_count": 4,
   "metadata": {},
   "outputs": [
    {
     "data": {
      "text/plain": [
       "0"
      ]
     },
     "execution_count": 4,
     "metadata": {},
     "output_type": "execute_result"
    }
   ],
   "source": [
    "# Total number of missing values\n",
    "data.isnull().sum().sum()"
   ]
  },
  {
   "cell_type": "code",
   "execution_count": 5,
   "metadata": {},
   "outputs": [
    {
     "data": {
      "text/plain": [
       "(3424, 68)"
      ]
     },
     "execution_count": 5,
     "metadata": {},
     "output_type": "execute_result"
    }
   ],
   "source": [
    "# Dimension of the dataset\n",
    "data.shape"
   ]
  },
  {
   "cell_type": "code",
   "execution_count": 6,
   "metadata": {},
   "outputs": [
    {
     "name": "stdout",
     "output_type": "stream",
     "text": [
      "Feature: Comorb_Encntr_For_General_Exam_W_O_Complaint,_Susp_Or_Reprtd_Dx, is not well formatted\n"
     ]
    }
   ],
   "source": [
    "# Standardize column names\n",
    "\n",
    "columns = list(data.columns)\n",
    "\n",
    "for item in columns:\n",
    "    special_characters = \"!@#$%^&*()-+?=,<>/\"\n",
    "    \n",
    "    for character in special_characters:\n",
    "        if character in item:\n",
    "            print(f\"Feature: {item}, is not well formatted\")"
   ]
  },
  {
   "cell_type": "code",
   "execution_count": 7,
   "metadata": {},
   "outputs": [
    {
     "data": {
      "text/plain": [
       "(3424, 68)"
      ]
     },
     "execution_count": 7,
     "metadata": {},
     "output_type": "execute_result"
    }
   ],
   "source": [
    "# Remove the \",\" from this feature name\n",
    "\n",
    "data[\"Comorb_Encntr_For_General_Exam_W_O_Complaint_Susp_Or_Reprtd_Dx\"] = data[\"Comorb_Encntr_For_General_Exam_W_O_Complaint,_Susp_Or_Reprtd_Dx\"]\n",
    "data = data.drop([\"Comorb_Encntr_For_General_Exam_W_O_Complaint,_Susp_Or_Reprtd_Dx\"], axis=1)\n",
    "data.shape"
   ]
  },
  {
   "cell_type": "code",
   "execution_count": 8,
   "metadata": {},
   "outputs": [
    {
     "data": {
      "text/plain": [
       "['Dexa_Freq_During_Rx', 'Count_Of_Risks']"
      ]
     },
     "execution_count": 8,
     "metadata": {},
     "output_type": "execute_result"
    }
   ],
   "source": [
    "# Numeric Columns\n",
    "numeric_col = list(data._get_numeric_data().columns)\n",
    "numeric_col"
   ]
  },
  {
   "cell_type": "markdown",
   "metadata": {},
   "source": [
    "### Remove Outliers"
   ]
  },
  {
   "cell_type": "code",
   "execution_count": 9,
   "metadata": {},
   "outputs": [
    {
     "data": {
      "text/plain": [
       "0      2488\n",
       "5       114\n",
       "6       107\n",
       "7        93\n",
       "8        71\n",
       "4        68\n",
       "10       55\n",
       "12       52\n",
       "3        46\n",
       "14       38\n",
       "9        32\n",
       "11       30\n",
       "1        24\n",
       "2        24\n",
       "13       19\n",
       "20       15\n",
       "16       14\n",
       "18       14\n",
       "22       13\n",
       "26       10\n",
       "24       10\n",
       "15        9\n",
       "30        7\n",
       "17        7\n",
       "28        7\n",
       "21        7\n",
       "36        5\n",
       "19        3\n",
       "42        3\n",
       "32        3\n",
       "34        3\n",
       "52        2\n",
       "48        2\n",
       "58        2\n",
       "25        2\n",
       "39        2\n",
       "88        2\n",
       "54        1\n",
       "146       1\n",
       "50        1\n",
       "35        1\n",
       "44        1\n",
       "108       1\n",
       "72        1\n",
       "40        1\n",
       "68        1\n",
       "45        1\n",
       "38        1\n",
       "69        1\n",
       "118       1\n",
       "66        1\n",
       "110       1\n",
       "33        1\n",
       "23        1\n",
       "27        1\n",
       "81        1\n",
       "37        1\n",
       "29        1\n",
       "Name: Dexa_Freq_During_Rx, dtype: int64"
      ]
     },
     "execution_count": 9,
     "metadata": {},
     "output_type": "execute_result"
    }
   ],
   "source": [
    "data['Dexa_Freq_During_Rx'].value_counts()"
   ]
  },
  {
   "cell_type": "code",
   "execution_count": 10,
   "metadata": {},
   "outputs": [
    {
     "data": {
      "text/plain": [
       "<AxesSubplot:xlabel='Dexa_Freq_During_Rx', ylabel='Density'>"
      ]
     },
     "execution_count": 10,
     "metadata": {},
     "output_type": "execute_result"
    },
    {
     "data": {
      "image/png": "[encoded data removed]",
      "text/plain": [
       "<Figure size 432x288 with 1 Axes>"
      ]
     },
     "metadata": {},
     "output_type": "display_data"
    }
   ],
   "source": [
    "# Spot Outliers for Dexa_Freq_During_Rx\n",
    "sns.distplot(data['Dexa_Freq_During_Rx'])"
   ]
  },
  {
   "cell_type": "code",
   "execution_count": 11,
   "metadata": {},
   "outputs": [
    {
     "data": {
      "text/html": [
       "<div>\n",
       "<style scoped>\n",
       "    .dataframe tbody tr th:only-of-type {\n",
       "        vertical-align: middle;\n",
       "    }\n",
       "\n",
       "    .dataframe tbody tr th {\n",
       "        vertical-align: top;\n",
       "    }\n",
       "\n",
       "    .dataframe thead th {\n",
       "        text-align: right;\n",
       "    }\n",
       "</style>\n",
       "<table border=\"1\" class=\"dataframe\">\n",
       "  <thead>\n",
       "    <tr style=\"text-align: right;\">\n",
       "      <th></th>\n",
       "      <th>Dexa_Freq_During_Rx</th>\n",
       "      <th>Count_Of_Risks</th>\n",
       "    </tr>\n",
       "  </thead>\n",
       "  <tbody>\n",
       "    <tr>\n",
       "      <th>count</th>\n",
       "      <td>3389.000000</td>\n",
       "      <td>3389.000000</td>\n",
       "    </tr>\n",
       "    <tr>\n",
       "      <th>mean</th>\n",
       "      <td>2.440248</td>\n",
       "      <td>1.240484</td>\n",
       "    </tr>\n",
       "    <tr>\n",
       "      <th>std</th>\n",
       "      <td>5.183446</td>\n",
       "      <td>1.095904</td>\n",
       "    </tr>\n",
       "    <tr>\n",
       "      <th>min</th>\n",
       "      <td>0.000000</td>\n",
       "      <td>0.000000</td>\n",
       "    </tr>\n",
       "    <tr>\n",
       "      <th>25%</th>\n",
       "      <td>0.000000</td>\n",
       "      <td>0.000000</td>\n",
       "    </tr>\n",
       "    <tr>\n",
       "      <th>50%</th>\n",
       "      <td>0.000000</td>\n",
       "      <td>1.000000</td>\n",
       "    </tr>\n",
       "    <tr>\n",
       "      <th>75%</th>\n",
       "      <td>3.000000</td>\n",
       "      <td>2.000000</td>\n",
       "    </tr>\n",
       "    <tr>\n",
       "      <th>max</th>\n",
       "      <td>34.000000</td>\n",
       "      <td>7.000000</td>\n",
       "    </tr>\n",
       "  </tbody>\n",
       "</table>\n",
       "</div>"
      ],
      "text/plain": [
       "       Dexa_Freq_During_Rx  Count_Of_Risks\n",
       "count          3389.000000     3389.000000\n",
       "mean              2.440248        1.240484\n",
       "std               5.183446        1.095904\n",
       "min               0.000000        0.000000\n",
       "25%               0.000000        0.000000\n",
       "50%               0.000000        1.000000\n",
       "75%               3.000000        2.000000\n",
       "max              34.000000        7.000000"
      ]
     },
     "execution_count": 11,
     "metadata": {},
     "output_type": "execute_result"
    }
   ],
   "source": [
    "# To remove the 99th percentile\n",
    "q = data['Dexa_Freq_During_Rx'].quantile(0.99)\n",
    "data_1 = data[data['Dexa_Freq_During_Rx']<q]\n",
    "data_1.describe()"
   ]
  },
  {
   "cell_type": "code",
   "execution_count": 12,
   "metadata": {},
   "outputs": [
    {
     "data": {
      "text/plain": [
       "0     2488\n",
       "5      114\n",
       "6      107\n",
       "7       93\n",
       "8       71\n",
       "4       68\n",
       "10      55\n",
       "12      52\n",
       "3       46\n",
       "14      38\n",
       "9       32\n",
       "11      30\n",
       "1       24\n",
       "2       24\n",
       "13      19\n",
       "20      15\n",
       "16      14\n",
       "18      14\n",
       "22      13\n",
       "26      10\n",
       "24      10\n",
       "15       9\n",
       "30       7\n",
       "28       7\n",
       "17       7\n",
       "21       7\n",
       "19       3\n",
       "34       3\n",
       "32       3\n",
       "25       2\n",
       "27       1\n",
       "23       1\n",
       "33       1\n",
       "29       1\n",
       "Name: Dexa_Freq_During_Rx, dtype: int64"
      ]
     },
     "execution_count": 12,
     "metadata": {},
     "output_type": "execute_result"
    }
   ],
   "source": [
    "data_1['Dexa_Freq_During_Rx'].value_counts()"
   ]
  },
  {
   "cell_type": "code",
   "execution_count": 13,
   "metadata": {},
   "outputs": [
    {
     "data": {
      "text/plain": [
       "<AxesSubplot:xlabel='Dexa_Freq_During_Rx', ylabel='Density'>"
      ]
     },
     "execution_count": 13,
     "metadata": {},
     "output_type": "execute_result"
    },
    {
     "data": {
      "image/png": "[encoded data removed]",
      "text/plain": [
       "<Figure size 432x288 with 1 Axes>"
      ]
     },
     "metadata": {},
     "output_type": "display_data"
    }
   ],
   "source": [
    "sns.distplot(data_1['Dexa_Freq_During_Rx'])"
   ]
  },
  {
   "cell_type": "code",
   "execution_count": 14,
   "metadata": {},
   "outputs": [
    {
     "data": {
      "text/plain": [
       "1    1228\n",
       "0     960\n",
       "2     773\n",
       "3     315\n",
       "4      90\n",
       "5      15\n",
       "6       6\n",
       "7       2\n",
       "Name: Count_Of_Risks, dtype: int64"
      ]
     },
     "execution_count": 14,
     "metadata": {},
     "output_type": "execute_result"
    }
   ],
   "source": [
    "data_1['Count_Of_Risks'].value_counts()"
   ]
  },
  {
   "cell_type": "code",
   "execution_count": 15,
   "metadata": {},
   "outputs": [
    {
     "data": {
      "text/plain": [
       "<AxesSubplot:xlabel='Count_Of_Risks', ylabel='Density'>"
      ]
     },
     "execution_count": 15,
     "metadata": {},
     "output_type": "execute_result"
    },
    {
     "data": {
      "image/png": "[encoded data removed]",
      "text/plain": [
       "<Figure size 432x288 with 1 Axes>"
      ]
     },
     "metadata": {},
     "output_type": "display_data"
    }
   ],
   "source": [
    "# Spot Outliers for Count_Of_Risks\n",
    "sns.distplot(data_1['Count_Of_Risks'])"
   ]
  },
  {
   "cell_type": "code",
   "execution_count": 16,
   "metadata": {},
   "outputs": [
    {
     "data": {
      "text/html": [
       "<div>\n",
       "<style scoped>\n",
       "    .dataframe tbody tr th:only-of-type {\n",
       "        vertical-align: middle;\n",
       "    }\n",
       "\n",
       "    .dataframe tbody tr th {\n",
       "        vertical-align: top;\n",
       "    }\n",
       "\n",
       "    .dataframe thead th {\n",
       "        text-align: right;\n",
       "    }\n",
       "</style>\n",
       "<table border=\"1\" class=\"dataframe\">\n",
       "  <thead>\n",
       "    <tr style=\"text-align: right;\">\n",
       "      <th></th>\n",
       "      <th>Dexa_Freq_During_Rx</th>\n",
       "      <th>Count_Of_Risks</th>\n",
       "    </tr>\n",
       "  </thead>\n",
       "  <tbody>\n",
       "    <tr>\n",
       "      <th>count</th>\n",
       "      <td>3276.000000</td>\n",
       "      <td>3276.000000</td>\n",
       "    </tr>\n",
       "    <tr>\n",
       "      <th>mean</th>\n",
       "      <td>2.434066</td>\n",
       "      <td>1.135226</td>\n",
       "    </tr>\n",
       "    <tr>\n",
       "      <th>std</th>\n",
       "      <td>5.215384</td>\n",
       "      <td>0.946362</td>\n",
       "    </tr>\n",
       "    <tr>\n",
       "      <th>min</th>\n",
       "      <td>0.000000</td>\n",
       "      <td>0.000000</td>\n",
       "    </tr>\n",
       "    <tr>\n",
       "      <th>25%</th>\n",
       "      <td>0.000000</td>\n",
       "      <td>0.000000</td>\n",
       "    </tr>\n",
       "    <tr>\n",
       "      <th>50%</th>\n",
       "      <td>0.000000</td>\n",
       "      <td>1.000000</td>\n",
       "    </tr>\n",
       "    <tr>\n",
       "      <th>75%</th>\n",
       "      <td>2.000000</td>\n",
       "      <td>2.000000</td>\n",
       "    </tr>\n",
       "    <tr>\n",
       "      <th>max</th>\n",
       "      <td>34.000000</td>\n",
       "      <td>3.000000</td>\n",
       "    </tr>\n",
       "  </tbody>\n",
       "</table>\n",
       "</div>"
      ],
      "text/plain": [
       "       Dexa_Freq_During_Rx  Count_Of_Risks\n",
       "count          3276.000000     3276.000000\n",
       "mean              2.434066        1.135226\n",
       "std               5.215384        0.946362\n",
       "min               0.000000        0.000000\n",
       "25%               0.000000        0.000000\n",
       "50%               0.000000        1.000000\n",
       "75%               2.000000        2.000000\n",
       "max              34.000000        3.000000"
      ]
     },
     "execution_count": 16,
     "metadata": {},
     "output_type": "execute_result"
    }
   ],
   "source": [
    "# To remove the 99th percentile\n",
    "q = data_1['Count_Of_Risks'].quantile(0.99)\n",
    "data_2 = data_1[data_1['Count_Of_Risks']<q]\n",
    "data_2.describe()"
   ]
  },
  {
   "cell_type": "code",
   "execution_count": 17,
   "metadata": {},
   "outputs": [
    {
     "data": {
      "text/plain": [
       "1    1228\n",
       "0     960\n",
       "2     773\n",
       "3     315\n",
       "Name: Count_Of_Risks, dtype: int64"
      ]
     },
     "execution_count": 17,
     "metadata": {},
     "output_type": "execute_result"
    }
   ],
   "source": [
    "data_2['Count_Of_Risks'].value_counts()"
   ]
  },
  {
   "cell_type": "code",
   "execution_count": 18,
   "metadata": {},
   "outputs": [
    {
     "data": {
      "text/plain": [
       "<AxesSubplot:xlabel='Count_Of_Risks', ylabel='Density'>"
      ]
     },
     "execution_count": 18,
     "metadata": {},
     "output_type": "execute_result"
    },
    {
     "data": {
      "image/png": "[encoded data removed]",
      "text/plain": [
       "<Figure size 432x288 with 1 Axes>"
      ]
     },
     "metadata": {},
     "output_type": "display_data"
    }
   ],
   "source": [
    "sns.distplot(data_2['Count_Of_Risks'])"
   ]
  },
  {
   "cell_type": "code",
   "execution_count": 19,
   "metadata": {},
   "outputs": [],
   "source": [
    "# Data without outliers\n",
    "data = data_2"
   ]
  },
  {
   "cell_type": "code",
   "execution_count": 20,
   "metadata": {},
   "outputs": [],
   "source": [
    "# Data containing only categorical variables\n",
    "categoric_data = data.drop(numeric_col, axis=1)"
   ]
  },
  {
   "cell_type": "code",
   "execution_count": 21,
   "metadata": {},
   "outputs": [],
   "source": [
    "# Categorical Columns\n",
    "cat_columns = list(categoric_data.columns)"
   ]
  },
  {
   "cell_type": "code",
   "execution_count": 22,
   "metadata": {},
   "outputs": [
    {
     "name": "stdout",
     "output_type": "stream",
     "text": [
      "Persistency_Flag: ['Persistent' 'Non-Persistent']\n",
      "\n",
      "Gender: ['Male' 'Female']\n",
      "\n",
      "Race: ['Caucasian' 'Asian' 'Other/Unknown' 'African American']\n",
      "\n",
      "Ethnicity: ['Not Hispanic' 'Hispanic' 'Unknown']\n",
      "\n",
      "Region: ['West' 'Midwest' 'South' 'Other/Unknown' 'Northeast']\n",
      "\n",
      "Age_Bucket: ['>75' '55-65' '65-75' '<55']\n",
      "\n",
      "Ntm_Speciality: ['GENERAL PRACTITIONER' 'Unknown' 'ENDOCRINOLOGY' 'RHEUMATOLOGY'\n",
      " 'ONCOLOGY' 'PATHOLOGY' 'OBSTETRICS AND GYNECOLOGY'\n",
      " 'PSYCHIATRY AND NEUROLOGY' 'ORTHOPEDIC SURGERY'\n",
      " 'PHYSICAL MEDICINE AND REHABILITATION' 'SURGERY AND SURGICAL SPECIALTIES'\n",
      " 'PULMONARY MEDICINE' 'HEMATOLOGY & ONCOLOGY' 'PEDIATRICS' 'UROLOGY'\n",
      " 'PAIN MEDICINE' 'NEUROLOGY' 'RADIOLOGY' 'GASTROENTEROLOGY'\n",
      " 'EMERGENCY MEDICINE' 'PODIATRY' 'OPHTHALMOLOGY' 'OCCUPATIONAL MEDICINE'\n",
      " 'TRANSPLANT SURGERY' 'PLASTIC SURGERY' 'CLINICAL NURSE SPECIALIST'\n",
      " 'OTOLARYNGOLOGY' 'HOSPITAL MEDICINE' 'ORTHOPEDICS' 'NEPHROLOGY'\n",
      " 'GERIATRIC MEDICINE' 'HOSPICE AND PALLIATIVE MEDICINE'\n",
      " 'OBSTETRICS & OBSTETRICS & GYNECOLOGY & OBSTETRICS & GYNECOLOGY'\n",
      " 'VASCULAR SURGERY' 'CARDIOLOGY' 'NUCLEAR MEDICINE']\n",
      "\n",
      "Ntm_Specialist_Flag: ['Others' 'Specialist']\n",
      "\n",
      "Ntm_Speciality_Bucket: ['OB/GYN/Others/PCP/Unknown' 'Endo/Onc/Uro' 'Rheum']\n",
      "\n",
      "Gluco_Record_Prior_Ntm: ['N' 'Y']\n",
      "\n",
      "Gluco_Record_During_Rx: ['N' 'Y']\n",
      "\n",
      "Dexa_During_Rx: ['N' 'Y']\n",
      "\n",
      "Frag_Frac_Prior_Ntm: ['N' 'Y']\n",
      "\n",
      "Frag_Frac_During_Rx: ['N' 'Y']\n",
      "\n",
      "Risk_Segment_Prior_Ntm: ['VLR_LR' 'HR_VHR']\n",
      "\n",
      "Tscore_Bucket_Prior_Ntm: ['>-2.5' '<=-2.5']\n",
      "\n",
      "Risk_Segment_During_Rx: ['VLR_LR' 'Unknown' 'HR_VHR']\n",
      "\n",
      "Tscore_Bucket_During_Rx: ['<=-2.5' 'Unknown' '>-2.5']\n",
      "\n",
      "Change_T_Score: ['No change' 'Unknown' 'Worsened' 'Improved']\n",
      "\n",
      "Change_Risk_Segment: ['Unknown' 'No change' 'Worsened' 'Improved']\n",
      "\n",
      "Adherent_Flag: ['Adherent' 'Non-Adherent']\n",
      "\n",
      "Idn_Indicator: ['N' 'Y']\n",
      "\n",
      "Injectable_Experience_During_Rx: ['Y' 'N']\n",
      "\n",
      "Comorb_Encounter_For_Screening_For_Malignant_Neoplasms: ['N' 'Y']\n",
      "\n",
      "Comorb_Encounter_For_Immunization: ['Y' 'N']\n",
      "\n",
      "Comorb_Vitamin_D_Deficiency: ['N' 'Y']\n",
      "\n",
      "Comorb_Other_Joint_Disorder_Not_Elsewhere_Classified: ['N' 'Y']\n",
      "\n",
      "Comorb_Encntr_For_Oth_Sp_Exam_W_O_Complaint_Suspected_Or_Reprtd_Dx: ['Y' 'N']\n",
      "\n",
      "Comorb_Long_Term_Current_Drug_Therapy: ['N' 'Y']\n",
      "\n",
      "Comorb_Dorsalgia: ['Y' 'N']\n",
      "\n",
      "Comorb_Personal_History_Of_Other_Diseases_And_Conditions: ['Y' 'N']\n",
      "\n",
      "Comorb_Other_Disorders_Of_Bone_Density_And_Structure: ['N' 'Y']\n",
      "\n",
      "Comorb_Disorders_of_lipoprotein_metabolism_and_other_lipidemias: ['N' 'Y']\n",
      "\n",
      "Comorb_Osteoporosis_without_current_pathological_fracture: ['N' 'Y']\n",
      "\n",
      "Comorb_Personal_history_of_malignant_neoplasm: ['N' 'Y']\n",
      "\n",
      "Comorb_Gastro_esophageal_reflux_disease: ['N' 'Y']\n",
      "\n",
      "Concom_Cholesterol_And_Triglyceride_Regulating_Preparations: ['N' 'Y']\n",
      "\n",
      "Concom_Narcotics: ['N' 'Y']\n",
      "\n",
      "Concom_Systemic_Corticosteroids_Plain: ['N' 'Y']\n",
      "\n",
      "Concom_Anti_Depressants_And_Mood_Stabilisers: ['N' 'Y']\n",
      "\n",
      "Concom_Fluoroquinolones: ['N' 'Y']\n",
      "\n",
      "Concom_Cephalosporins: ['N' 'Y']\n",
      "\n",
      "Concom_Macrolides_And_Similar_Types: ['N' 'Y']\n",
      "\n",
      "Concom_Broad_Spectrum_Penicillins: ['N' 'Y']\n",
      "\n",
      "Concom_Anaesthetics_General: ['N' 'Y']\n",
      "\n",
      "Concom_Viral_Vaccines: ['N' 'Y']\n",
      "\n",
      "Risk_Type_1_Insulin_Dependent_Diabetes: ['N' 'Y']\n",
      "\n",
      "Risk_Osteogenesis_Imperfecta: ['N' 'Y']\n",
      "\n",
      "Risk_Rheumatoid_Arthritis: ['N' 'Y']\n",
      "\n",
      "Risk_Untreated_Chronic_Hyperthyroidism: ['N' 'Y']\n",
      "\n",
      "Risk_Untreated_Chronic_Hypogonadism: ['N' 'Y']\n",
      "\n",
      "Risk_Untreated_Early_Menopause: ['N' 'Y']\n",
      "\n",
      "Risk_Patient_Parent_Fractured_Their_Hip: ['N' 'Y']\n",
      "\n",
      "Risk_Smoking_Tobacco: ['N' 'Y']\n",
      "\n",
      "Risk_Chronic_Malnutrition_Or_Malabsorption: ['N' 'Y']\n",
      "\n",
      "Risk_Chronic_Liver_Disease: ['N' 'Y']\n",
      "\n",
      "Risk_Family_History_Of_Osteoporosis: ['N' 'Y']\n",
      "\n",
      "Risk_Low_Calcium_Intake: ['N' 'Y']\n",
      "\n",
      "Risk_Vitamin_D_Insufficiency: ['N' 'Y']\n",
      "\n",
      "Risk_Poor_Health_Frailty: ['N' 'Y']\n",
      "\n",
      "Risk_Excessive_Thinness: ['N' 'Y']\n",
      "\n",
      "Risk_Hysterectomy_Oophorectomy: ['N' 'Y']\n",
      "\n",
      "Risk_Estrogen_Deficiency: ['N' 'Y']\n",
      "\n",
      "Risk_Immobilization: ['N' 'Y']\n",
      "\n",
      "Risk_Recurring_Falls: ['N' 'Y']\n",
      "\n",
      "Comorb_Encntr_For_General_Exam_W_O_Complaint_Susp_Or_Reprtd_Dx: ['Y' 'N']\n",
      "\n"
     ]
    }
   ],
   "source": [
    "# Inspect the unique values of the categorical variables\n",
    "\n",
    "for item in cat_columns:\n",
    "    print(f\"{item}: {categoric_data[item].unique()}\")\n",
    "    print(\"\")"
   ]
  },
  {
   "cell_type": "code",
   "execution_count": 23,
   "metadata": {},
   "outputs": [
    {
     "data": {
      "text/plain": [
       "array(['Persistent', 'Non-Persistent'], dtype=object)"
      ]
     },
     "execution_count": 23,
     "metadata": {},
     "output_type": "execute_result"
    }
   ],
   "source": [
    "# The target variable\n",
    "data[\"Persistency_Flag\"].unique()"
   ]
  },
  {
   "cell_type": "code",
   "execution_count": 24,
   "metadata": {},
   "outputs": [
    {
     "name": "stderr",
     "output_type": "stream",
     "text": [
      "<ipython-input-24-f18f0a11ba41>:8: SettingWithCopyWarning: \n",
      "A value is trying to be set on a copy of a slice from a DataFrame.\n",
      "Try using .loc[row_indexer,col_indexer] = value instead\n",
      "\n",
      "See the caveats in the documentation: https://pandas.pydata.org/pandas-docs/stable/user_guide/indexing.html#returning-a-view-versus-a-copy\n",
      "  data[\"Persistency_Flag\"] = lb_make.fit_transform(data[\"Persistency_Flag\"])\n"
     ]
    },
    {
     "data": {
      "text/plain": [
       "array([1, 0])"
      ]
     },
     "execution_count": 24,
     "metadata": {},
     "output_type": "execute_result"
    }
   ],
   "source": [
    "# Encode the Target variable\n",
    "\n",
    "# data[\"Persistency_Flag\"] = data[\"Persistency_Flag\"].map({\"Non-Persistent\":0, \"Persistent\":1})\n",
    "\n",
    "from sklearn.preprocessing import LabelEncoder\n",
    "\n",
    "lb_make = LabelEncoder()\n",
    "data[\"Persistency_Flag\"] = lb_make.fit_transform(data[\"Persistency_Flag\"])\n",
    "\n",
    "# data[\"Persistency_Flag\"].head()\n",
    "\n",
    "data[\"Persistency_Flag\"].unique()"
   ]
  },
  {
   "cell_type": "markdown",
   "metadata": {},
   "source": [
    "Note: 1 = Persistent, 0 = Non-Persistent "
   ]
  },
  {
   "cell_type": "code",
   "execution_count": 25,
   "metadata": {},
   "outputs": [
    {
     "data": {
      "text/plain": [
       "array([1, 0])"
      ]
     },
     "execution_count": 25,
     "metadata": {},
     "output_type": "execute_result"
    }
   ],
   "source": [
    "data[\"Persistency_Flag\"].unique()"
   ]
  },
  {
   "cell_type": "markdown",
   "metadata": {},
   "source": [
    "### Balance Dataset"
   ]
  },
  {
   "cell_type": "code",
   "execution_count": 26,
   "metadata": {},
   "outputs": [
    {
     "data": {
      "text/plain": [
       "0    2070\n",
       "1    1206\n",
       "Name: Persistency_Flag, dtype: int64"
      ]
     },
     "execution_count": 26,
     "metadata": {},
     "output_type": "execute_result"
    }
   ],
   "source": [
    "data[\"Persistency_Flag\"].value_counts()"
   ]
  },
  {
   "cell_type": "markdown",
   "metadata": {},
   "source": [
    "Note: The Non-Persistent observations are almost double the Persistent observations.\n",
    "\n",
    "Next step is to balance the data using either the Random-Undersampling or Random_Oversampling method."
   ]
  },
  {
   "cell_type": "code",
   "execution_count": 27,
   "metadata": {},
   "outputs": [],
   "source": [
    "# Undersampling \n",
    "\n",
    "# # import library\n",
    "# from imblearn.under_sampling import RandomUnderSampler\n",
    "\n",
    "# rus = RandomUnderSampler(random_state=42, replacement=True)# fit predictor and target variable\n",
    "# x_temp, y_temp = rus.fit_resample(data.drop([\"Persistency_Flag\"], axis=1), data[\"Persistency_Flag\"])\n",
    "\n",
    "\n",
    "# Oversampling\n",
    "\n",
    "# import library\n",
    "from imblearn.over_sampling import RandomOverSampler\n",
    "\n",
    "ros = RandomOverSampler(random_state=42)\n",
    "\n",
    "# fit predictor and target variablex_ros, y_ros = ros.fit_resample(x, y)\n",
    "x_temp, y_temp = ros.fit_resample(data.drop([\"Persistency_Flag\"], axis=1), data[\"Persistency_Flag\"])"
   ]
  },
  {
   "cell_type": "code",
   "execution_count": 28,
   "metadata": {},
   "outputs": [],
   "source": [
    "data = pd.concat([x_temp, y_temp], axis=1)"
   ]
  },
  {
   "cell_type": "code",
   "execution_count": 29,
   "metadata": {},
   "outputs": [
    {
     "data": {
      "text/plain": [
       "1    2070\n",
       "0    2070\n",
       "Name: Persistency_Flag, dtype: int64"
      ]
     },
     "execution_count": 29,
     "metadata": {},
     "output_type": "execute_result"
    }
   ],
   "source": [
    "data[\"Persistency_Flag\"].value_counts()"
   ]
  },
  {
   "cell_type": "code",
   "execution_count": 30,
   "metadata": {},
   "outputs": [],
   "source": [
    "cleaned_data = data\n",
    "\n",
    "# Select the Features\n",
    "features = cleaned_data.drop([\"Persistency_Flag\"], axis=1)"
   ]
  },
  {
   "cell_type": "code",
   "execution_count": 31,
   "metadata": {},
   "outputs": [],
   "source": [
    "# Convert categorical feature variables\n",
    "data_with_dummies = pd.get_dummies(features, prefix=None, drop_first = True, prefix_sep='_')"
   ]
  },
  {
   "cell_type": "code",
   "execution_count": 32,
   "metadata": {},
   "outputs": [],
   "source": [
    "# Remove special characters from the feature names\n",
    "import warnings\n",
    "warnings.simplefilter(action='ignore', category=FutureWarning)\n",
    "# pd.reset_option('all')\n",
    "\n",
    "data_with_dummies.columns = data_with_dummies.columns.str.replace('[\">\"]', 'greater_than')\n",
    "data_with_dummies.columns = data_with_dummies.columns.str.replace('[\" \"]', '_')\n",
    "data_with_dummies.columns = data_with_dummies.columns.str.replace('[\"&\"]', 'and')\n",
    "data_with_dummies.columns = data_with_dummies.columns.str.replace('[\"/\"]', '_or_')\n",
    "data_with_dummies.columns = data_with_dummies.columns.str.replace('[\",\"]', '_')\n",
    "data_with_dummies.columns = data_with_dummies.columns.str.replace('[\"<\"]', 'less_than')\n",
    "data_with_dummies.columns = data_with_dummies.columns.str.replace('[\"\\-\"]', '_')\n",
    "data_with_dummies.columns = data_with_dummies.columns.str.replace('[\"\\.\"]', '_point_')\n",
    "# data_with_dummies.columns = data_with_dummies.columns.str.replace('[\"_\"]', '')"
   ]
  },
  {
   "cell_type": "markdown",
   "metadata": {},
   "source": [
    "### Create Dummy Variables"
   ]
  },
  {
   "cell_type": "code",
   "execution_count": 33,
   "metadata": {},
   "outputs": [],
   "source": [
    "# For loop to find dummy features that are not well formatted\n",
    "\n",
    "columns = list(data_with_dummies.columns)\n",
    "            \n",
    "for item in columns:\n",
    "    special_characters = \"!@#$%^&*()-+?=,<>/\"\n",
    "    \n",
    "    for character in special_characters:\n",
    "        if character in item:\n",
    "            print(f\"Feature: {item}, is not well formatted\")"
   ]
  },
  {
   "cell_type": "code",
   "execution_count": 34,
   "metadata": {},
   "outputs": [
    {
     "data": {
      "text/plain": [
       "Index(['Dexa_Freq_During_Rx', 'Count_Of_Risks', 'Gender_Male', 'Race_Asian',\n",
       "       'Race_Caucasian', 'Race_Other_or_Unknown', 'Ethnicity_Not_Hispanic',\n",
       "       'Ethnicity_Unknown', 'Region_Northeast', 'Region_Other_or_Unknown',\n",
       "       ...\n",
       "       'Risk_Family_History_Of_Osteoporosis_Y', 'Risk_Low_Calcium_Intake_Y',\n",
       "       'Risk_Vitamin_D_Insufficiency_Y', 'Risk_Poor_Health_Frailty_Y',\n",
       "       'Risk_Excessive_Thinness_Y', 'Risk_Hysterectomy_Oophorectomy_Y',\n",
       "       'Risk_Estrogen_Deficiency_Y', 'Risk_Immobilization_Y',\n",
       "       'Risk_Recurring_Falls_Y',\n",
       "       'Comorb_Encntr_For_General_Exam_W_O_Complaint_Susp_Or_Reprtd_Dx_Y'],\n",
       "      dtype='object', length=116)"
      ]
     },
     "execution_count": 34,
     "metadata": {},
     "output_type": "execute_result"
    }
   ],
   "source": [
    "data_with_dummies.columns"
   ]
  },
  {
   "cell_type": "code",
   "execution_count": 35,
   "metadata": {},
   "outputs": [
    {
     "data": {
      "text/html": [
       "<div>\n",
       "<style scoped>\n",
       "    .dataframe tbody tr th:only-of-type {\n",
       "        vertical-align: middle;\n",
       "    }\n",
       "\n",
       "    .dataframe tbody tr th {\n",
       "        vertical-align: top;\n",
       "    }\n",
       "\n",
       "    .dataframe thead th {\n",
       "        text-align: right;\n",
       "    }\n",
       "</style>\n",
       "<table border=\"1\" class=\"dataframe\">\n",
       "  <thead>\n",
       "    <tr style=\"text-align: right;\">\n",
       "      <th></th>\n",
       "      <th>Dexa_Freq_During_Rx</th>\n",
       "      <th>Count_Of_Risks</th>\n",
       "      <th>Gender_Male</th>\n",
       "      <th>Race_Asian</th>\n",
       "      <th>Race_Caucasian</th>\n",
       "      <th>Race_Other_or_Unknown</th>\n",
       "      <th>Ethnicity_Not_Hispanic</th>\n",
       "      <th>Ethnicity_Unknown</th>\n",
       "      <th>Region_Northeast</th>\n",
       "      <th>Region_Other_or_Unknown</th>\n",
       "      <th>...</th>\n",
       "      <th>Risk_Family_History_Of_Osteoporosis_Y</th>\n",
       "      <th>Risk_Low_Calcium_Intake_Y</th>\n",
       "      <th>Risk_Vitamin_D_Insufficiency_Y</th>\n",
       "      <th>Risk_Poor_Health_Frailty_Y</th>\n",
       "      <th>Risk_Excessive_Thinness_Y</th>\n",
       "      <th>Risk_Hysterectomy_Oophorectomy_Y</th>\n",
       "      <th>Risk_Estrogen_Deficiency_Y</th>\n",
       "      <th>Risk_Immobilization_Y</th>\n",
       "      <th>Risk_Recurring_Falls_Y</th>\n",
       "      <th>Comorb_Encntr_For_General_Exam_W_O_Complaint_Susp_Or_Reprtd_Dx_Y</th>\n",
       "    </tr>\n",
       "  </thead>\n",
       "  <tbody>\n",
       "    <tr>\n",
       "      <th>0</th>\n",
       "      <td>0</td>\n",
       "      <td>0</td>\n",
       "      <td>1</td>\n",
       "      <td>0</td>\n",
       "      <td>1</td>\n",
       "      <td>0</td>\n",
       "      <td>1</td>\n",
       "      <td>0</td>\n",
       "      <td>0</td>\n",
       "      <td>0</td>\n",
       "      <td>...</td>\n",
       "      <td>0</td>\n",
       "      <td>0</td>\n",
       "      <td>0</td>\n",
       "      <td>0</td>\n",
       "      <td>0</td>\n",
       "      <td>0</td>\n",
       "      <td>0</td>\n",
       "      <td>0</td>\n",
       "      <td>0</td>\n",
       "      <td>1</td>\n",
       "    </tr>\n",
       "    <tr>\n",
       "      <th>1</th>\n",
       "      <td>0</td>\n",
       "      <td>0</td>\n",
       "      <td>1</td>\n",
       "      <td>1</td>\n",
       "      <td>0</td>\n",
       "      <td>0</td>\n",
       "      <td>1</td>\n",
       "      <td>0</td>\n",
       "      <td>0</td>\n",
       "      <td>0</td>\n",
       "      <td>...</td>\n",
       "      <td>0</td>\n",
       "      <td>0</td>\n",
       "      <td>0</td>\n",
       "      <td>0</td>\n",
       "      <td>0</td>\n",
       "      <td>0</td>\n",
       "      <td>0</td>\n",
       "      <td>0</td>\n",
       "      <td>0</td>\n",
       "      <td>1</td>\n",
       "    </tr>\n",
       "    <tr>\n",
       "      <th>2</th>\n",
       "      <td>0</td>\n",
       "      <td>2</td>\n",
       "      <td>0</td>\n",
       "      <td>0</td>\n",
       "      <td>0</td>\n",
       "      <td>1</td>\n",
       "      <td>0</td>\n",
       "      <td>0</td>\n",
       "      <td>0</td>\n",
       "      <td>0</td>\n",
       "      <td>...</td>\n",
       "      <td>0</td>\n",
       "      <td>1</td>\n",
       "      <td>0</td>\n",
       "      <td>0</td>\n",
       "      <td>0</td>\n",
       "      <td>0</td>\n",
       "      <td>0</td>\n",
       "      <td>0</td>\n",
       "      <td>0</td>\n",
       "      <td>1</td>\n",
       "    </tr>\n",
       "    <tr>\n",
       "      <th>3</th>\n",
       "      <td>0</td>\n",
       "      <td>1</td>\n",
       "      <td>0</td>\n",
       "      <td>0</td>\n",
       "      <td>1</td>\n",
       "      <td>0</td>\n",
       "      <td>1</td>\n",
       "      <td>0</td>\n",
       "      <td>0</td>\n",
       "      <td>0</td>\n",
       "      <td>...</td>\n",
       "      <td>0</td>\n",
       "      <td>0</td>\n",
       "      <td>0</td>\n",
       "      <td>0</td>\n",
       "      <td>0</td>\n",
       "      <td>0</td>\n",
       "      <td>0</td>\n",
       "      <td>0</td>\n",
       "      <td>0</td>\n",
       "      <td>1</td>\n",
       "    </tr>\n",
       "    <tr>\n",
       "      <th>4</th>\n",
       "      <td>0</td>\n",
       "      <td>1</td>\n",
       "      <td>0</td>\n",
       "      <td>0</td>\n",
       "      <td>1</td>\n",
       "      <td>0</td>\n",
       "      <td>1</td>\n",
       "      <td>0</td>\n",
       "      <td>0</td>\n",
       "      <td>0</td>\n",
       "      <td>...</td>\n",
       "      <td>0</td>\n",
       "      <td>0</td>\n",
       "      <td>0</td>\n",
       "      <td>0</td>\n",
       "      <td>0</td>\n",
       "      <td>0</td>\n",
       "      <td>0</td>\n",
       "      <td>0</td>\n",
       "      <td>0</td>\n",
       "      <td>1</td>\n",
       "    </tr>\n",
       "  </tbody>\n",
       "</table>\n",
       "<p>5 rows × 116 columns</p>\n",
       "</div>"
      ],
      "text/plain": [
       "   Dexa_Freq_During_Rx  Count_Of_Risks  Gender_Male  Race_Asian  \\\n",
       "0                    0               0            1           0   \n",
       "1                    0               0            1           1   \n",
       "2                    0               2            0           0   \n",
       "3                    0               1            0           0   \n",
       "4                    0               1            0           0   \n",
       "\n",
       "   Race_Caucasian  Race_Other_or_Unknown  Ethnicity_Not_Hispanic  \\\n",
       "0               1                      0                       1   \n",
       "1               0                      0                       1   \n",
       "2               0                      1                       0   \n",
       "3               1                      0                       1   \n",
       "4               1                      0                       1   \n",
       "\n",
       "   Ethnicity_Unknown  Region_Northeast  Region_Other_or_Unknown  ...  \\\n",
       "0                  0                 0                        0  ...   \n",
       "1                  0                 0                        0  ...   \n",
       "2                  0                 0                        0  ...   \n",
       "3                  0                 0                        0  ...   \n",
       "4                  0                 0                        0  ...   \n",
       "\n",
       "   Risk_Family_History_Of_Osteoporosis_Y  Risk_Low_Calcium_Intake_Y  \\\n",
       "0                                      0                          0   \n",
       "1                                      0                          0   \n",
       "2                                      0                          1   \n",
       "3                                      0                          0   \n",
       "4                                      0                          0   \n",
       "\n",
       "   Risk_Vitamin_D_Insufficiency_Y  Risk_Poor_Health_Frailty_Y  \\\n",
       "0                               0                           0   \n",
       "1                               0                           0   \n",
       "2                               0                           0   \n",
       "3                               0                           0   \n",
       "4                               0                           0   \n",
       "\n",
       "   Risk_Excessive_Thinness_Y  Risk_Hysterectomy_Oophorectomy_Y  \\\n",
       "0                          0                                 0   \n",
       "1                          0                                 0   \n",
       "2                          0                                 0   \n",
       "3                          0                                 0   \n",
       "4                          0                                 0   \n",
       "\n",
       "   Risk_Estrogen_Deficiency_Y  Risk_Immobilization_Y  Risk_Recurring_Falls_Y  \\\n",
       "0                           0                      0                       0   \n",
       "1                           0                      0                       0   \n",
       "2                           0                      0                       0   \n",
       "3                           0                      0                       0   \n",
       "4                           0                      0                       0   \n",
       "\n",
       "   Comorb_Encntr_For_General_Exam_W_O_Complaint_Susp_Or_Reprtd_Dx_Y  \n",
       "0                                                  1                 \n",
       "1                                                  1                 \n",
       "2                                                  1                 \n",
       "3                                                  1                 \n",
       "4                                                  1                 \n",
       "\n",
       "[5 rows x 116 columns]"
      ]
     },
     "execution_count": 35,
     "metadata": {},
     "output_type": "execute_result"
    }
   ],
   "source": [
    "data_with_dummies.head()"
   ]
  },
  {
   "cell_type": "markdown",
   "metadata": {},
   "source": [
    "### Selecting the final Dependent and Independent variables"
   ]
  },
  {
   "cell_type": "code",
   "execution_count": 36,
   "metadata": {},
   "outputs": [
    {
     "data": {
      "text/plain": [
       "1    2070\n",
       "0    2070\n",
       "Name: Persistency_Flag, dtype: int64"
      ]
     },
     "execution_count": 36,
     "metadata": {},
     "output_type": "execute_result"
    }
   ],
   "source": [
    "cleaned_data[\"Persistency_Flag\"].value_counts()"
   ]
  },
  {
   "cell_type": "code",
   "execution_count": 37,
   "metadata": {},
   "outputs": [],
   "source": [
    "y = cleaned_data[\"Persistency_Flag\"]\n",
    "X = data_with_dummies"
   ]
  },
  {
   "cell_type": "code",
   "execution_count": 38,
   "metadata": {},
   "outputs": [],
   "source": [
    "from sklearn.model_selection import train_test_split\n",
    "\n",
    "# set aside 20% of train and test data for evaluation\n",
    "X_train, X_test, y_train, y_test = train_test_split(X, y, test_size=0.2, shuffle = True, random_state = 44)"
   ]
  },
  {
   "cell_type": "markdown",
   "metadata": {},
   "source": [
    "# Model Selection and Optimization"
   ]
  },
  {
   "cell_type": "code",
   "execution_count": 39,
   "metadata": {},
   "outputs": [],
   "source": [
    "from xgboost import XGBClassifier\n",
    "from sklearn.linear_model import LogisticRegression\n",
    "from sklearn.tree import DecisionTreeClassifier\n",
    "from sklearn.ensemble import BaggingClassifier\n",
    "from sklearn.naive_bayes import BernoulliNB\n",
    "from sklearn.linear_model import SGDClassifier\n",
    "from sklearn.neighbors import KNeighborsClassifier\n",
    "from sklearn.ensemble import RandomForestClassifier\n",
    "from sklearn.ensemble import GradientBoostingClassifier\n",
    "from sklearn.ensemble import AdaBoostClassifier\n",
    "from lightgbm import LGBMClassifier\n",
    "import sklearn\n",
    "from sklearn import metrics\n",
    "from sklearn.metrics import accuracy_score\n",
    "from sklearn.metrics import precision_score\n",
    "from sklearn.metrics import recall_score\n",
    "from sklearn.metrics import f1_score\n",
    "from sklearn.metrics import confusion_matrix\n",
    "from sklearn.metrics import classification_report"
   ]
  },
  {
   "cell_type": "code",
   "execution_count": 40,
   "metadata": {},
   "outputs": [
    {
     "name": "stdout",
     "output_type": "stream",
     "text": [
      "\u001b[1mLogisticRegression\u001b[0m\n",
      "\n",
      "\n",
      "Confusion Matrix: \n",
      " [[331  79]\n",
      " [ 83 335]]\n",
      "F1 Score:  80.52884615384615\n",
      "Report : \n",
      "               precision    recall  f1-score   support\n",
      "\n",
      "           0       0.80      0.81      0.80       410\n",
      "           1       0.81      0.80      0.81       418\n",
      "\n",
      "    accuracy                           0.80       828\n",
      "   macro avg       0.80      0.80      0.80       828\n",
      "weighted avg       0.80      0.80      0.80       828\n",
      "\n",
      "\u001b[1mDecisionTreeClassifier\u001b[0m\n",
      "\n",
      "\n",
      "Confusion Matrix: \n",
      " [[304 106]\n",
      " [ 49 369]]\n",
      "F1 Score:  82.6427771556551\n",
      "Report : \n",
      "               precision    recall  f1-score   support\n",
      "\n",
      "           0       0.86      0.74      0.80       410\n",
      "           1       0.78      0.88      0.83       418\n",
      "\n",
      "    accuracy                           0.81       828\n",
      "   macro avg       0.82      0.81      0.81       828\n",
      "weighted avg       0.82      0.81      0.81       828\n",
      "\n",
      "\u001b[1mXGBClassifier\u001b[0m\n",
      "\n",
      "\n",
      "Confusion Matrix: \n",
      " [[337  73]\n",
      " [ 51 367]]\n",
      "F1 Score:  85.54778554778555\n",
      "Report : \n",
      "               precision    recall  f1-score   support\n",
      "\n",
      "           0       0.87      0.82      0.84       410\n",
      "           1       0.83      0.88      0.86       418\n",
      "\n",
      "    accuracy                           0.85       828\n",
      "   macro avg       0.85      0.85      0.85       828\n",
      "weighted avg       0.85      0.85      0.85       828\n",
      "\n",
      "\u001b[1mBaggingClassifier\u001b[0m\n",
      "\n",
      "\n",
      "Confusion Matrix: \n",
      " [[341  69]\n",
      " [ 55 363]]\n",
      "F1 Score:  85.41176470588235\n",
      "Report : \n",
      "               precision    recall  f1-score   support\n",
      "\n",
      "           0       0.86      0.83      0.85       410\n",
      "           1       0.84      0.87      0.85       418\n",
      "\n",
      "    accuracy                           0.85       828\n",
      "   macro avg       0.85      0.85      0.85       828\n",
      "weighted avg       0.85      0.85      0.85       828\n",
      "\n",
      "\u001b[1mBernoulliNB\u001b[0m\n",
      "\n",
      "\n",
      "Confusion Matrix: \n",
      " [[318  92]\n",
      " [103 315]]\n",
      "F1 Score:  76.36363636363637\n",
      "Report : \n",
      "               precision    recall  f1-score   support\n",
      "\n",
      "           0       0.76      0.78      0.77       410\n",
      "           1       0.77      0.75      0.76       418\n",
      "\n",
      "    accuracy                           0.76       828\n",
      "   macro avg       0.76      0.76      0.76       828\n",
      "weighted avg       0.76      0.76      0.76       828\n",
      "\n",
      "\u001b[1mSGDClassifier\u001b[0m\n",
      "\n",
      "\n",
      "Confusion Matrix: \n",
      " [[357  53]\n",
      " [137 281]]\n",
      "F1 Score:  74.7340425531915\n",
      "Report : \n",
      "               precision    recall  f1-score   support\n",
      "\n",
      "           0       0.72      0.87      0.79       410\n",
      "           1       0.84      0.67      0.75       418\n",
      "\n",
      "    accuracy                           0.77       828\n",
      "   macro avg       0.78      0.77      0.77       828\n",
      "weighted avg       0.78      0.77      0.77       828\n",
      "\n",
      "\u001b[1mKNeighborsClassifier\u001b[0m\n",
      "\n",
      "\n",
      "Confusion Matrix: \n",
      " [[327  83]\n",
      " [114 304]]\n",
      "F1 Score:  75.527950310559\n",
      "Report : \n",
      "               precision    recall  f1-score   support\n",
      "\n",
      "           0       0.74      0.80      0.77       410\n",
      "           1       0.79      0.73      0.76       418\n",
      "\n",
      "    accuracy                           0.76       828\n",
      "   macro avg       0.76      0.76      0.76       828\n",
      "weighted avg       0.76      0.76      0.76       828\n",
      "\n",
      "\u001b[1mRandomForestClassifier\u001b[0m\n",
      "\n",
      "\n",
      "Confusion Matrix: \n",
      " [[342  68]\n",
      " [ 41 377]]\n",
      "F1 Score:  87.36964078794901\n",
      "Report : \n",
      "               precision    recall  f1-score   support\n",
      "\n",
      "           0       0.89      0.83      0.86       410\n",
      "           1       0.85      0.90      0.87       418\n",
      "\n",
      "    accuracy                           0.87       828\n",
      "   macro avg       0.87      0.87      0.87       828\n",
      "weighted avg       0.87      0.87      0.87       828\n",
      "\n",
      "\u001b[1mAdaBoostClassifier\u001b[0m\n",
      "\n",
      "\n",
      "Confusion Matrix: \n",
      " [[333  77]\n",
      " [ 91 327]]\n",
      "F1 Score:  79.56204379562044\n",
      "Report : \n",
      "               precision    recall  f1-score   support\n",
      "\n",
      "           0       0.79      0.81      0.80       410\n",
      "           1       0.81      0.78      0.80       418\n",
      "\n",
      "    accuracy                           0.80       828\n",
      "   macro avg       0.80      0.80      0.80       828\n",
      "weighted avg       0.80      0.80      0.80       828\n",
      "\n",
      "\u001b[1mGradient Boosting Classifier\u001b[0m\n",
      "\n",
      "\n",
      "Confusion Matrix: \n",
      " [[333  77]\n",
      " [ 86 332]]\n",
      "F1 Score:  80.29020556227329\n",
      "Report : \n",
      "               precision    recall  f1-score   support\n",
      "\n",
      "           0       0.79      0.81      0.80       410\n",
      "           1       0.81      0.79      0.80       418\n",
      "\n",
      "    accuracy                           0.80       828\n",
      "   macro avg       0.80      0.80      0.80       828\n",
      "weighted avg       0.80      0.80      0.80       828\n",
      "\n",
      "\u001b[1mLGBM Classifier\u001b[0m\n",
      "\n",
      "\n",
      "Confusion Matrix: \n",
      " [[331  79]\n",
      " [ 58 360]]\n",
      "F1 Score:  84.01400233372229\n",
      "Report : \n",
      "               precision    recall  f1-score   support\n",
      "\n",
      "           0       0.85      0.81      0.83       410\n",
      "           1       0.82      0.86      0.84       418\n",
      "\n",
      "    accuracy                           0.83       828\n",
      "   macro avg       0.84      0.83      0.83       828\n",
      "weighted avg       0.84      0.83      0.83       828\n",
      "\n"
     ]
    }
   ],
   "source": [
    "# To ignore convergence warning\n",
    "from sklearn.model_selection import cross_val_score\n",
    "from warnings import simplefilter\n",
    "from sklearn.exceptions import ConvergenceWarning\n",
    "simplefilter(\"ignore\", category=ConvergenceWarning)\n",
    "\n",
    "def cal_accuracy(y_test, y_hat):\n",
    "\n",
    "    print(\"Confusion Matrix: \\n\",\n",
    "        confusion_matrix(y_test, y_hat))\n",
    "\n",
    "    print (\"F1 Score: \",\n",
    "           f1_score(y_test,y_hat)*100)\n",
    "\n",
    "    print(\"Report : \\n\",\n",
    "    classification_report(y_test, y_hat))\n",
    "    \n",
    "\n",
    "def Model(xtrain, ytrain, xval, yval, name, model):\n",
    "    model_name = name + \"Model\"\n",
    "    \n",
    "    print(\"\\033[1m\" + name + \"\\033[0m\")\n",
    "    print(f\"\")\n",
    "    \n",
    "    # Train Model\n",
    "    model.fit(xtrain, ytrain)\n",
    "    \n",
    "#     Cross Validation with the training data set\n",
    "#     print(cross_val_score(model, xval, yval, scoring=\"f1\", cv = 5)*100)\n",
    "#     mean_score = cross_val_score(model, xval, yval, scoring=\"f1\", cv = 5).mean()\n",
    "#     print(f\"Mean CV F1: {mean_score*100}\")\n",
    "    \n",
    "    \n",
    "    y_hat_val = model.predict(xval)\n",
    "#     y_hat_train = model.predict(xtrain)\n",
    "#     print(f\"Train Accuracy Score: {round(accuracy_score(y_hat_train, ytrain), 2)}\")\n",
    "#     print(f\"Test Accuracy Score: {round(accuracy_score(y_hat_test, ytest), 2)}\")\n",
    "    print(f\"\")\n",
    "        \n",
    "    cal_accuracy(yval, y_hat_val)\n",
    "    \n",
    "    \n",
    "Classification_models = {\"LogisticRegression\":LogisticRegression(solver='lbfgs', verbose=0),\n",
    "                         \"DecisionTreeClassifier\":DecisionTreeClassifier(),\n",
    "                         \"XGBClassifier\":XGBClassifier(),\n",
    "                         \"BaggingClassifier\":BaggingClassifier(),\n",
    "                         \"BernoulliNB\":BernoulliNB(),\n",
    "                         \"SGDClassifier\":SGDClassifier(),\n",
    "                         \"KNeighborsClassifier\":KNeighborsClassifier(),\n",
    "                         \"RandomForestClassifier\":RandomForestClassifier(),\n",
    "                         \"AdaBoostClassifier\":AdaBoostClassifier(),\n",
    "                         \"Gradient Boosting Classifier\":GradientBoostingClassifier(),\n",
    "                         \"LGBM Classifier\":LGBMClassifier(),\n",
    "                        }\n",
    "\n",
    "for name, model in Classification_models.items():\n",
    "    Model(X_train, y_train, X_test, y_test, name, model)"
   ]
  },
  {
   "cell_type": "markdown",
   "metadata": {},
   "source": [
    "Note: The RandomForest Classifier Model performed well on the dataset."
   ]
  },
  {
   "cell_type": "markdown",
   "metadata": {},
   "source": [
    "## Hyperparameter Tuning"
   ]
  },
  {
   "cell_type": "markdown",
   "metadata": {},
   "source": [
    "## Grid Search - RandomForest"
   ]
  },
  {
   "cell_type": "code",
   "execution_count": 41,
   "metadata": {},
   "outputs": [],
   "source": [
    "# sklearn.metrics.get_scorer_names()"
   ]
  },
  {
   "cell_type": "code",
   "execution_count": 42,
   "metadata": {},
   "outputs": [
    {
     "name": "stdout",
     "output_type": "stream",
     "text": [
      "Fitting 3 folds for each of 100 candidates, totalling 300 fits\n"
     ]
    }
   ],
   "source": [
    "from sklearn.model_selection import RandomizedSearchCV\n",
    "\n",
    "random_grid = {\n",
    "    'n_estimators': [90,100,115,130], # learning rate\n",
    "    'criterion': [\"gini\", \"entropy\"], # number of epochs\n",
    "    'max_depth': range(2, 20, 1), # loss function\n",
    "    'min_samples_leaf': range(1,10,1),\n",
    "    'min_samples_split': range(2,10,1),\n",
    "    'max_features': ['sqrt', 'log2']\n",
    "}\n",
    "\n",
    "# Create a based model\n",
    "clf = RandomForestClassifier()\n",
    "\n",
    "rf_random = RandomizedSearchCV(estimator = clf, scoring=\"f1\", param_distributions = random_grid, n_iter = 100, cv = 3, verbose=2, random_state=42, n_jobs = -1)\n",
    "\n",
    "# Fit the random search model\n",
    "rf_random.fit(X_train, y_train)\n",
    "\n",
    "bestModel = rf_random.best_estimator_"
   ]
  },
  {
   "cell_type": "code",
   "execution_count": 43,
   "metadata": {},
   "outputs": [
    {
     "name": "stdout",
     "output_type": "stream",
     "text": [
      "Confusion Matrix: \n",
      " [[350  60]\n",
      " [ 65 353]]\n",
      "F1 Score:  84.95788206979543\n",
      "Report : \n",
      "               precision    recall  f1-score   support\n",
      "\n",
      "           0       0.84      0.85      0.85       410\n",
      "           1       0.85      0.84      0.85       418\n",
      "\n",
      "    accuracy                           0.85       828\n",
      "   macro avg       0.85      0.85      0.85       828\n",
      "weighted avg       0.85      0.85      0.85       828\n",
      "\n"
     ]
    }
   ],
   "source": [
    "y_hat_test = bestModel.predict(X_test)\n",
    "cal_accuracy(y_test, y_hat_test)"
   ]
  },
  {
   "cell_type": "code",
   "execution_count": null,
   "metadata": {},
   "outputs": [],
   "source": []
  }
 ],
 "metadata": {
  "kernelspec": {
   "display_name": "Python 3",
   "language": "python",
   "name": "python3"
  },
  "language_info": {
   "codemirror_mode": {
    "name": "ipython",
    "version": 3
   },
   "file_extension": ".py",
   "mimetype": "text/x-python",
   "name": "python",
   "nbconvert_exporter": "python",
   "pygments_lexer": "ipython3",
   "version": "3.8.5"
  }
 },
 "nbformat": 4,
 "nbformat_minor": 4
}
